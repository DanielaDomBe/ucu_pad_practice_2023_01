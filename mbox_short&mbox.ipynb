{
  "nbformat": 4,
  "nbformat_minor": 0,
  "metadata": {
    "colab": {
      "provenance": [],
      "authorship_tag": "ABX9TyM+YMOVaTct7gjumymr4CSr",
      "include_colab_link": true
    },
    "kernelspec": {
      "name": "python3",
      "display_name": "Python 3"
    },
    "language_info": {
      "name": "python"
    }
  },
  "cells": [
    {
      "cell_type": "markdown",
      "metadata": {
        "id": "view-in-github",
        "colab_type": "text"
      },
      "source": [
        "<a href=\"https://colab.research.google.com/github/DanielaDomBe/ucu_pad_practice_2023_01/blob/main/mbox_short%26mbox.ipynb\" target=\"_parent\"><img src=\"https://colab.research.google.com/assets/colab-badge.svg\" alt=\"Open In Colab\"/></a>"
      ]
    },
    {
      "cell_type": "code",
      "execution_count": 1,
      "metadata": {
        "colab": {
          "base_uri": "https://localhost:8080/"
        },
        "id": "5nx0v5vkMnKI",
        "outputId": "be83af01-f09f-49e4-8b28-5ab9c8820e02"
      },
      "outputs": [
        {
          "output_type": "stream",
          "name": "stdout",
          "text": [
            "Cloning into 'ucu_pad_practice_2023_01'...\n",
            "remote: Enumerating objects: 25, done.\u001b[K\n",
            "remote: Counting objects: 100% (25/25), done.\u001b[K\n",
            "remote: Compressing objects: 100% (21/21), done.\u001b[K\n",
            "remote: Total 25 (delta 4), reused 13 (delta 1), pack-reused 0\u001b[K\n",
            "Receiving objects: 100% (25/25), 601.23 KiB | 6.83 MiB/s, done.\n",
            "Resolving deltas: 100% (4/4), done.\n"
          ]
        }
      ],
      "source": [
        "!git clone https://github.com/DanielaDomBe/ucu_pad_practice_2023_01.git"
      ]
    },
    {
      "cell_type": "code",
      "source": [
        "import re\n",
        "\n",
        "with open('/content/ucu_pad_practice_2023_01/data/mbox-short.txt') as file:\n",
        "    pattern = 'New Revision: (\\d+)'\n",
        "    data = []\n",
        "\n",
        "    for line in file:\n",
        "        line = line.rstrip()\n",
        "        result = re.findall(pattern, line)\n",
        "        if result:\n",
        "            data.extend([int(val) for val in result])\n",
        "\n",
        "    if data:\n",
        "        promedio = sum(data) / len(data)\n",
        "        promedio_entero = int(promedio)\n",
        "        print(\"El promedio es:\", promedio_entero)\n",
        "    else:\n",
        "        print(\"La lista está vacía, no se puede calcular el promedio.\")"
      ],
      "metadata": {
        "colab": {
          "base_uri": "https://localhost:8080/"
        },
        "id": "gMpcEjVOYkNs",
        "outputId": "71969579-053d-4a61-da5b-daa24265d240"
      },
      "execution_count": 34,
      "outputs": [
        {
          "output_type": "stream",
          "name": "stdout",
          "text": [
            "El promedio es: 39756\n"
          ]
        }
      ]
    },
    {
      "cell_type": "code",
      "source": [
        "import re\n",
        "\n",
        "with open('/content/ucu_pad_practice_2023_01/data/mbox.txt') as file:\n",
        "    pattern = 'New Revision: (\\d+)'\n",
        "    data = []\n",
        "\n",
        "    for line in file:\n",
        "        line = line.rstrip()\n",
        "        result = re.findall(pattern, line)\n",
        "        if result:\n",
        "            data.extend([int(val) for val in result])\n",
        "\n",
        "    if data:\n",
        "        promedio = sum(data) / len(data)\n",
        "        promedio_entero = int(promedio)\n",
        "        print(\"El promedio es:\", promedio_entero)\n",
        "    else:\n",
        "        print(\"La lista está vacía, no se puede calcular el promedio.\")"
      ],
      "metadata": {
        "colab": {
          "base_uri": "https://localhost:8080/"
        },
        "id": "j1ZwqELfc3tK",
        "outputId": "26f64bd9-7afd-42fa-b75a-eb8dd27119b5"
      },
      "execution_count": 36,
      "outputs": [
        {
          "output_type": "stream",
          "name": "stdout",
          "text": [
            "El promedio es: 38549\n"
          ]
        }
      ]
    }
  ]
}