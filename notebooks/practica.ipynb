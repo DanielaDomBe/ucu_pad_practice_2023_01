{
 "cells": [
  {
   "cell_type": "markdown",
   "source": [
    "# Practicar con expresiones regulares en Python\n",
    "\n",
    "- Utilizando una expresión regular y el método findall(), extraiga el número de cada una de las líneas,\n",
    "- luego calcule el promedio de los números,\n",
    "- finalmente imprima el promedio como un entero.\n",
    "\n",
    "Los archivos de datos están en la carpeta `/data`\n",
    "Introduzca el archivo: mbox.txt\n",
    "38549\n",
    "Ingrese el archivo: mbox-short.txt\n",
    "39756\n",
    "\n"
   ],
   "metadata": {
    "collapsed": false
   }
  },
  {
   "cell_type": "code",
   "execution_count": null,
   "outputs": [],
   "source": [],
   "metadata": {
    "collapsed": false
   }
  }
 ],
 "metadata": {
  "kernelspec": {
   "display_name": "Python 3",
   "language": "python",
   "name": "python3"
  },
  "language_info": {
   "codemirror_mode": {
    "name": "ipython",
    "version": 2
   },
   "file_extension": ".py",
   "mimetype": "text/x-python",
   "name": "python",
   "nbconvert_exporter": "python",
   "pygments_lexer": "ipython2",
   "version": "2.7.6"
  }
 },
 "nbformat": 4,
 "nbformat_minor": 0
}
